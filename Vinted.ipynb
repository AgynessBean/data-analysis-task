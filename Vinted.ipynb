{
 "cells": [
  {
   "cell_type": "code",
   "execution_count": 1,
   "metadata": {},
   "outputs": [],
   "source": [
    "import glob\n",
    "import numpy as np\n",
    "import pandas as pd\n",
    "import matplotlib.pyplot as plt\n",
    "import seaborn as sb\n",
    "%matplotlib inline"
   ]
  },
  {
   "cell_type": "code",
   "execution_count": 2,
   "metadata": {},
   "outputs": [
    {
     "data": {
      "text/plain": [
       "'/Users/agne/Documents/Interview tasks/Vinted'"
      ]
     },
     "execution_count": 2,
     "metadata": {},
     "output_type": "execute_result"
    }
   ],
   "source": [
    "pwd"
   ]
  },
  {
   "cell_type": "markdown",
   "metadata": {},
   "source": [
    "## 1. Load the data\n",
    "\n",
    "Code below allows access to all data folders subsequently, imports and concatinates separate json files in each data folder into one. All data is written into a dictionary and separate data frames can be accessed through d[name].\n",
    "\n",
    "Before coming up with this code, I tested my method by:\n",
    "- importing json files from any given data folder separately to explore the amount of variables and observations,\n",
    "- exploring any duplicate tracking codes or transaction_id's I need to be aware of.\n",
    "\n",
    "Only after familiarizing with the data, I wrote the universal import code."
   ]
  },
  {
   "cell_type": "code",
   "execution_count": 3,
   "metadata": {},
   "outputs": [],
   "source": [
    "d = {}\n",
    "for name in ['product_invoices', 'product_package_types', 'product_shipments', 'provider_invoices', 'provider_prices']:\n",
    "    path = r'Data/%s'%name \n",
    "    all_files = glob.glob(path + \"/*.json\")\n",
    "\n",
    "    li = []\n",
    "\n",
    "    for filename in all_files:\n",
    "        df = pd.read_json(filename, lines=True)\n",
    "        li.append(df)\n",
    "\n",
    "    d[name] = pd.concat(li, axis=0, ignore_index=True)"
   ]
  },
  {
   "cell_type": "markdown",
   "metadata": {},
   "source": [
    "## 2. Quickly explore and transform the data to a python data frame\n",
    "\n",
    "In addition, explore and fix any:\n",
    "- missing values,\n",
    "- duplicate IDs\n",
    "- unusual data types.\n",
    "\n",
    "In addition, where it is quick and potentially useful for future analysis, I engineer some variables into numeric types and deal with some datetime types to ease future analysis."
   ]
  },
  {
   "cell_type": "code",
   "execution_count": 4,
   "metadata": {},
   "outputs": [],
   "source": [
    "def summaries(df, idvar):\n",
    "    print(d[df].info())    \n",
    "    print('\\n')\n",
    "    print('# duplicates: ', d[df].duplicated().sum())\n",
    "    print('ID duplicates: ', d[df].duplicated(idvar).sum())\n",
    "    print('# missing values: ', d[df].isnull().sum())\n",
    "    print('\\n')"
   ]
  },
  {
   "cell_type": "markdown",
   "metadata": {},
   "source": [
    "### 2.1 Product invoices"
   ]
  },
  {
   "cell_type": "code",
   "execution_count": 5,
   "metadata": {},
   "outputs": [
    {
     "name": "stdout",
     "output_type": "stream",
     "text": [
      "<class 'pandas.core.frame.DataFrame'>\n",
      "RangeIndex: 554038 entries, 0 to 554037\n",
      "Data columns (total 3 columns):\n",
      "transaction_id       554038 non-null int64\n",
      "amount               554038 non-null float64\n",
      "user_invoice_date    554038 non-null object\n",
      "dtypes: float64(1), int64(1), object(1)\n",
      "memory usage: 12.7+ MB\n",
      "None\n",
      "\n",
      "\n",
      "# duplicates:  0\n",
      "ID duplicates:  0\n",
      "# missing values:  transaction_id       0\n",
      "amount               0\n",
      "user_invoice_date    0\n",
      "dtype: int64\n",
      "\n",
      "\n"
     ]
    }
   ],
   "source": [
    "summaries('product_invoices', 'transaction_id')"
   ]
  },
  {
   "cell_type": "code",
   "execution_count": 6,
   "metadata": {},
   "outputs": [],
   "source": [
    "product_invoices = d['product_invoices']"
   ]
  },
  {
   "cell_type": "code",
   "execution_count": 7,
   "metadata": {},
   "outputs": [],
   "source": [
    "product_invoices['user_invoice_date'] = pd.to_datetime(product_invoices['user_invoice_date']).dt.date"
   ]
  },
  {
   "cell_type": "markdown",
   "metadata": {},
   "source": [
    "### 2.2 Product package types"
   ]
  },
  {
   "cell_type": "code",
   "execution_count": 8,
   "metadata": {},
   "outputs": [
    {
     "name": "stdout",
     "output_type": "stream",
     "text": [
      "<class 'pandas.core.frame.DataFrame'>\n",
      "RangeIndex: 134 entries, 0 to 133\n",
      "Data columns (total 2 columns):\n",
      "id             134 non-null int64\n",
      "description    134 non-null object\n",
      "dtypes: int64(1), object(1)\n",
      "memory usage: 2.2+ KB\n",
      "None\n",
      "\n",
      "\n",
      "# duplicates:  0\n",
      "ID duplicates:  0\n",
      "# missing values:  id             0\n",
      "description    0\n",
      "dtype: int64\n",
      "\n",
      "\n"
     ]
    }
   ],
   "source": [
    "summaries('product_package_types', 'id')"
   ]
  },
  {
   "cell_type": "code",
   "execution_count": 9,
   "metadata": {},
   "outputs": [],
   "source": [
    "product_package_types = d['product_package_types']"
   ]
  },
  {
   "cell_type": "markdown",
   "metadata": {},
   "source": [
    "### 2.3 Product shipments"
   ]
  },
  {
   "cell_type": "code",
   "execution_count": 11,
   "metadata": {},
   "outputs": [
    {
     "name": "stdout",
     "output_type": "stream",
     "text": [
      "<class 'pandas.core.frame.DataFrame'>\n",
      "RangeIndex: 562886 entries, 0 to 562885\n",
      "Data columns (total 8 columns):\n",
      "tracking_code             562886 non-null int64\n",
      "from_country              562886 non-null object\n",
      "to_country                562886 non-null object\n",
      "package_type_id           562886 non-null int64\n",
      "transaction_id            562886 non-null int64\n",
      "shipping_label_created    562886 non-null object\n",
      "buyer_id                  562886 non-null int64\n",
      "seller_id                 562886 non-null int64\n",
      "dtypes: int64(5), object(3)\n",
      "memory usage: 34.4+ MB\n",
      "None\n",
      "\n",
      "\n",
      "# duplicates:  0\n",
      "ID duplicates:  0\n",
      "# missing values:  tracking_code             0\n",
      "from_country              0\n",
      "to_country                0\n",
      "package_type_id           0\n",
      "transaction_id            0\n",
      "shipping_label_created    0\n",
      "buyer_id                  0\n",
      "seller_id                 0\n",
      "dtype: int64\n",
      "\n",
      "\n"
     ]
    }
   ],
   "source": [
    "summaries('product_shipments', 'transaction_id') "
   ]
  },
  {
   "cell_type": "code",
   "execution_count": 12,
   "metadata": {},
   "outputs": [],
   "source": [
    "product_shipments = d['product_shipments']"
   ]
  },
  {
   "cell_type": "code",
   "execution_count": 13,
   "metadata": {},
   "outputs": [],
   "source": [
    "product_shipments['shipping_label_created_date'] = pd.to_datetime(product_shipments['shipping_label_created']).dt.date"
   ]
  },
  {
   "cell_type": "markdown",
   "metadata": {},
   "source": [
    "### 2.4 Provider prices"
   ]
  },
  {
   "cell_type": "code",
   "execution_count": 14,
   "metadata": {},
   "outputs": [
    {
     "name": "stdout",
     "output_type": "stream",
     "text": [
      "<class 'pandas.core.frame.DataFrame'>\n",
      "RangeIndex: 144 entries, 0 to 143\n",
      "Data columns (total 4 columns):\n",
      "from_country           144 non-null object\n",
      "to_country             144 non-null object\n",
      "price                  144 non-null float64\n",
      "actual_package_size    144 non-null object\n",
      "dtypes: float64(1), object(3)\n",
      "memory usage: 4.6+ KB\n",
      "None\n",
      "\n",
      "\n",
      "# duplicates:  0\n",
      "ID duplicates:  0\n",
      "# missing values:  from_country           0\n",
      "to_country             0\n",
      "price                  0\n",
      "actual_package_size    0\n",
      "dtype: int64\n",
      "\n",
      "\n"
     ]
    }
   ],
   "source": [
    "#provider prices does not have a designated ID; however it is uniquely identified by all variables, as the individual \n",
    "#product is the defined by origin/destination country and package_size\n",
    "summaries('provider_prices', ['from_country', 'to_country', 'actual_package_size'])"
   ]
  },
  {
   "cell_type": "code",
   "execution_count": 15,
   "metadata": {},
   "outputs": [],
   "source": [
    "provider_prices = d['provider_prices']"
   ]
  },
  {
   "cell_type": "markdown",
   "metadata": {},
   "source": [
    "Seeing as the actual_package_size variable is a string, create a numeric option in case it is useful to compare for package size discrepancies between the shipping agent and Vinted."
   ]
  },
  {
   "cell_type": "code",
   "execution_count": 16,
   "metadata": {},
   "outputs": [
    {
     "data": {
      "text/plain": [
       "array(['0.5 kg', '1 kg', '2 kg', '3 kg', '5 kg', '7 kg', '10 kg', '15 kg',\n",
       "       '30 kg'], dtype=object)"
      ]
     },
     "execution_count": 16,
     "metadata": {},
     "output_type": "execute_result"
    }
   ],
   "source": [
    "provider_prices['actual_package_size'].unique()"
   ]
  },
  {
   "cell_type": "code",
   "execution_count": 17,
   "metadata": {},
   "outputs": [],
   "source": [
    "provider_prices['actual_package_size_num'] = provider_prices['actual_package_size'].str.extract(\"([-+]?\\d*\\.\\d+|[-+]?\\d+)\").astype(float)"
   ]
  },
  {
   "cell_type": "markdown",
   "metadata": {},
   "source": [
    "### 2.5 Provider invoices"
   ]
  },
  {
   "cell_type": "code",
   "execution_count": 18,
   "metadata": {},
   "outputs": [
    {
     "name": "stdout",
     "output_type": "stream",
     "text": [
      "<class 'pandas.core.frame.DataFrame'>\n",
      "RangeIndex: 562943 entries, 0 to 562942\n",
      "Data columns (total 5 columns):\n",
      "tracking_code      562943 non-null int64\n",
      "from_country       562943 non-null object\n",
      "to_country         562943 non-null object\n",
      "weight_measured    559610 non-null float64\n",
      "amount             562943 non-null float64\n",
      "dtypes: float64(2), int64(1), object(2)\n",
      "memory usage: 21.5+ MB\n",
      "None\n",
      "\n",
      "\n",
      "# duplicates:  0\n",
      "ID duplicates:  2\n",
      "# missing values:  tracking_code         0\n",
      "from_country          0\n",
      "to_country            0\n",
      "weight_measured    3333\n",
      "amount                0\n",
      "dtype: int64\n",
      "\n",
      "\n"
     ]
    }
   ],
   "source": [
    "summaries('provider_invoices', 'tracking_code')"
   ]
  },
  {
   "cell_type": "code",
   "execution_count": 19,
   "metadata": {},
   "outputs": [],
   "source": [
    "provider_invoices = d['provider_invoices']"
   ]
  },
  {
   "cell_type": "markdown",
   "metadata": {},
   "source": [
    "There is a tracking code duplicate in the provider invoices dataframe. This means there should be a duplicate in the product_shipments dataframe too.\n",
    "\n",
    "Below, I investigate the problem."
   ]
  },
  {
   "cell_type": "code",
   "execution_count": 20,
   "metadata": {},
   "outputs": [
    {
     "data": {
      "text/html": [
       "<div>\n",
       "<style scoped>\n",
       "    .dataframe tbody tr th:only-of-type {\n",
       "        vertical-align: middle;\n",
       "    }\n",
       "\n",
       "    .dataframe tbody tr th {\n",
       "        vertical-align: top;\n",
       "    }\n",
       "\n",
       "    .dataframe thead th {\n",
       "        text-align: right;\n",
       "    }\n",
       "</style>\n",
       "<table border=\"1\" class=\"dataframe\">\n",
       "  <thead>\n",
       "    <tr style=\"text-align: right;\">\n",
       "      <th></th>\n",
       "      <th>tracking_code</th>\n",
       "      <th>from_country</th>\n",
       "      <th>to_country</th>\n",
       "      <th>weight_measured</th>\n",
       "      <th>amount</th>\n",
       "    </tr>\n",
       "  </thead>\n",
       "  <tbody>\n",
       "    <tr>\n",
       "      <th>438953</th>\n",
       "      <td>12795958</td>\n",
       "      <td>FR</td>\n",
       "      <td>FR</td>\n",
       "      <td>NaN</td>\n",
       "      <td>3.28</td>\n",
       "    </tr>\n",
       "    <tr>\n",
       "      <th>479966</th>\n",
       "      <td>12878564</td>\n",
       "      <td>FR</td>\n",
       "      <td>FR</td>\n",
       "      <td>NaN</td>\n",
       "      <td>3.28</td>\n",
       "    </tr>\n",
       "  </tbody>\n",
       "</table>\n",
       "</div>"
      ],
      "text/plain": [
       "        tracking_code from_country to_country  weight_measured  amount\n",
       "438953       12795958           FR         FR              NaN    3.28\n",
       "479966       12878564           FR         FR              NaN    3.28"
      ]
     },
     "execution_count": 20,
     "metadata": {},
     "output_type": "execute_result"
    }
   ],
   "source": [
    "provider_invoices[provider_invoices.duplicated('tracking_code')]"
   ]
  },
  {
   "cell_type": "code",
   "execution_count": 21,
   "metadata": {},
   "outputs": [
    {
     "name": "stdout",
     "output_type": "stream",
     "text": [
      "        tracking_code from_country to_country  weight_measured  amount\n",
      "174586       12795958           ES         FR              0.0    3.73\n",
      "438953       12795958           FR         FR              NaN    3.28\n",
      "        tracking_code from_country to_country  weight_measured  amount\n",
      "290553       12878564           ES         FR              0.0    3.73\n",
      "479966       12878564           FR         FR              NaN    3.28\n"
     ]
    }
   ],
   "source": [
    "print(provider_invoices[provider_invoices['tracking_code']==12795958])\n",
    "print(provider_invoices[provider_invoices['tracking_code']==12878564])"
   ]
  },
  {
   "cell_type": "code",
   "execution_count": 22,
   "metadata": {},
   "outputs": [
    {
     "data": {
      "text/html": [
       "<div>\n",
       "<style scoped>\n",
       "    .dataframe tbody tr th:only-of-type {\n",
       "        vertical-align: middle;\n",
       "    }\n",
       "\n",
       "    .dataframe tbody tr th {\n",
       "        vertical-align: top;\n",
       "    }\n",
       "\n",
       "    .dataframe thead th {\n",
       "        text-align: right;\n",
       "    }\n",
       "</style>\n",
       "<table border=\"1\" class=\"dataframe\">\n",
       "  <thead>\n",
       "    <tr style=\"text-align: right;\">\n",
       "      <th></th>\n",
       "      <th>tracking_code</th>\n",
       "      <th>from_country</th>\n",
       "      <th>to_country</th>\n",
       "      <th>package_type_id</th>\n",
       "      <th>transaction_id</th>\n",
       "      <th>shipping_label_created</th>\n",
       "      <th>buyer_id</th>\n",
       "      <th>seller_id</th>\n",
       "      <th>shipping_label_created_date</th>\n",
       "    </tr>\n",
       "  </thead>\n",
       "  <tbody>\n",
       "    <tr>\n",
       "      <th>7354</th>\n",
       "      <td>12795958</td>\n",
       "      <td>ES</td>\n",
       "      <td>FR</td>\n",
       "      <td>135</td>\n",
       "      <td>260812237</td>\n",
       "      <td>2019-02-11 16:54:05</td>\n",
       "      <td>21341323</td>\n",
       "      <td>22008389</td>\n",
       "      <td>2019-02-11</td>\n",
       "    </tr>\n",
       "    <tr>\n",
       "      <th>502315</th>\n",
       "      <td>12878564</td>\n",
       "      <td>ES</td>\n",
       "      <td>FR</td>\n",
       "      <td>135</td>\n",
       "      <td>271780177</td>\n",
       "      <td>2019-02-26 12:14:31</td>\n",
       "      <td>11869825</td>\n",
       "      <td>21649195</td>\n",
       "      <td>2019-02-26</td>\n",
       "    </tr>\n",
       "  </tbody>\n",
       "</table>\n",
       "</div>"
      ],
      "text/plain": [
       "        tracking_code from_country to_country  package_type_id  \\\n",
       "7354         12795958           ES         FR              135   \n",
       "502315       12878564           ES         FR              135   \n",
       "\n",
       "        transaction_id shipping_label_created  buyer_id  seller_id  \\\n",
       "7354         260812237    2019-02-11 16:54:05  21341323   22008389   \n",
       "502315       271780177    2019-02-26 12:14:31  11869825   21649195   \n",
       "\n",
       "       shipping_label_created_date  \n",
       "7354                    2019-02-11  \n",
       "502315                  2019-02-26  "
      ]
     },
     "execution_count": 22,
     "metadata": {},
     "output_type": "execute_result"
    }
   ],
   "source": [
    "product_shipments[product_shipments.duplicated('tracking_code')]"
   ]
  },
  {
   "cell_type": "code",
   "execution_count": 23,
   "metadata": {},
   "outputs": [
    {
     "data": {
      "text/html": [
       "<div>\n",
       "<style scoped>\n",
       "    .dataframe tbody tr th:only-of-type {\n",
       "        vertical-align: middle;\n",
       "    }\n",
       "\n",
       "    .dataframe tbody tr th {\n",
       "        vertical-align: top;\n",
       "    }\n",
       "\n",
       "    .dataframe thead th {\n",
       "        text-align: right;\n",
       "    }\n",
       "</style>\n",
       "<table border=\"1\" class=\"dataframe\">\n",
       "  <thead>\n",
       "    <tr style=\"text-align: right;\">\n",
       "      <th></th>\n",
       "      <th>tracking_code</th>\n",
       "      <th>from_country</th>\n",
       "      <th>to_country</th>\n",
       "      <th>package_type_id</th>\n",
       "      <th>transaction_id</th>\n",
       "      <th>shipping_label_created</th>\n",
       "      <th>buyer_id</th>\n",
       "      <th>seller_id</th>\n",
       "      <th>shipping_label_created_date</th>\n",
       "    </tr>\n",
       "  </thead>\n",
       "  <tbody>\n",
       "    <tr>\n",
       "      <th>3124</th>\n",
       "      <td>12795958</td>\n",
       "      <td>FR</td>\n",
       "      <td>FR</td>\n",
       "      <td>11</td>\n",
       "      <td>7789938</td>\n",
       "      <td>2015-04-25 20:07:56</td>\n",
       "      <td>1827490</td>\n",
       "      <td>1164460</td>\n",
       "      <td>2015-04-25</td>\n",
       "    </tr>\n",
       "    <tr>\n",
       "      <th>7354</th>\n",
       "      <td>12795958</td>\n",
       "      <td>ES</td>\n",
       "      <td>FR</td>\n",
       "      <td>135</td>\n",
       "      <td>260812237</td>\n",
       "      <td>2019-02-11 16:54:05</td>\n",
       "      <td>21341323</td>\n",
       "      <td>22008389</td>\n",
       "      <td>2019-02-11</td>\n",
       "    </tr>\n",
       "  </tbody>\n",
       "</table>\n",
       "</div>"
      ],
      "text/plain": [
       "      tracking_code from_country to_country  package_type_id  transaction_id  \\\n",
       "3124       12795958           FR         FR               11         7789938   \n",
       "7354       12795958           ES         FR              135       260812237   \n",
       "\n",
       "     shipping_label_created  buyer_id  seller_id shipping_label_created_date  \n",
       "3124    2015-04-25 20:07:56   1827490    1164460                  2015-04-25  \n",
       "7354    2019-02-11 16:54:05  21341323   22008389                  2019-02-11  "
      ]
     },
     "execution_count": 23,
     "metadata": {},
     "output_type": "execute_result"
    }
   ],
   "source": [
    "product_shipments[product_shipments['tracking_code']==12795958]"
   ]
  },
  {
   "cell_type": "code",
   "execution_count": 24,
   "metadata": {},
   "outputs": [
    {
     "data": {
      "text/html": [
       "<div>\n",
       "<style scoped>\n",
       "    .dataframe tbody tr th:only-of-type {\n",
       "        vertical-align: middle;\n",
       "    }\n",
       "\n",
       "    .dataframe tbody tr th {\n",
       "        vertical-align: top;\n",
       "    }\n",
       "\n",
       "    .dataframe thead th {\n",
       "        text-align: right;\n",
       "    }\n",
       "</style>\n",
       "<table border=\"1\" class=\"dataframe\">\n",
       "  <thead>\n",
       "    <tr style=\"text-align: right;\">\n",
       "      <th></th>\n",
       "      <th>tracking_code</th>\n",
       "      <th>from_country</th>\n",
       "      <th>to_country</th>\n",
       "      <th>package_type_id</th>\n",
       "      <th>transaction_id</th>\n",
       "      <th>shipping_label_created</th>\n",
       "      <th>buyer_id</th>\n",
       "      <th>seller_id</th>\n",
       "      <th>shipping_label_created_date</th>\n",
       "    </tr>\n",
       "  </thead>\n",
       "  <tbody>\n",
       "    <tr>\n",
       "      <th>409079</th>\n",
       "      <td>12878564</td>\n",
       "      <td>FR</td>\n",
       "      <td>FR</td>\n",
       "      <td>11</td>\n",
       "      <td>8638716</td>\n",
       "      <td>2015-05-19 18:50:57</td>\n",
       "      <td>1702596</td>\n",
       "      <td>105141</td>\n",
       "      <td>2015-05-19</td>\n",
       "    </tr>\n",
       "    <tr>\n",
       "      <th>502315</th>\n",
       "      <td>12878564</td>\n",
       "      <td>ES</td>\n",
       "      <td>FR</td>\n",
       "      <td>135</td>\n",
       "      <td>271780177</td>\n",
       "      <td>2019-02-26 12:14:31</td>\n",
       "      <td>11869825</td>\n",
       "      <td>21649195</td>\n",
       "      <td>2019-02-26</td>\n",
       "    </tr>\n",
       "  </tbody>\n",
       "</table>\n",
       "</div>"
      ],
      "text/plain": [
       "        tracking_code from_country to_country  package_type_id  \\\n",
       "409079       12878564           FR         FR               11   \n",
       "502315       12878564           ES         FR              135   \n",
       "\n",
       "        transaction_id shipping_label_created  buyer_id  seller_id  \\\n",
       "409079         8638716    2015-05-19 18:50:57   1702596     105141   \n",
       "502315       271780177    2019-02-26 12:14:31  11869825   21649195   \n",
       "\n",
       "       shipping_label_created_date  \n",
       "409079                  2015-05-19  \n",
       "502315                  2019-02-26  "
      ]
     },
     "execution_count": 24,
     "metadata": {},
     "output_type": "execute_result"
    }
   ],
   "source": [
    "product_shipments[product_shipments['tracking_code']==12878564]"
   ]
  },
  {
   "cell_type": "markdown",
   "metadata": {},
   "source": [
    "Looks like the both duplicate cases are a result from mistakenly assigning the same ID to two instances. In fact, the two cases of duplicates seem to mirror each other in both dataframes.\n",
    "\n",
    "In the following cells, I will reassign one of the duplicates with tracking_code 12795958 to the other duplicates' tracking code 12878564 (in both dataframes). Afterwards, I will drop other remaining cases (with tracking code 12878564).\n",
    "\n",
    "I assume that I have discussed this case with a superior, who has confirmed my hunch and my solution method (switching tracking numbers in our datasets will not be an issue for the shipping agent)."
   ]
  },
  {
   "cell_type": "code",
   "execution_count": 25,
   "metadata": {},
   "outputs": [],
   "source": [
    "provider_invoices['tracking_code'] = np.where((provider_invoices['tracking_code'] == 12795958) \n",
    "                                             & (provider_invoices['from_country'] == 'ES'), 12878564, provider_invoices['tracking_code'])\n",
    "\n",
    "product_shipments['tracking_code'] = np.where((product_shipments['tracking_code'] == 12795958) \n",
    "                                             & (product_shipments['from_country'] == 'ES'), \n",
    "                                                12878564, product_shipments['tracking_code'])"
   ]
  },
  {
   "cell_type": "code",
   "execution_count": 26,
   "metadata": {},
   "outputs": [],
   "source": [
    "provider_invoices = provider_invoices.drop_duplicates('tracking_code', keep='first')\n",
    "product_shipments = product_shipments.drop_duplicates('tracking_code', keep='first')"
   ]
  },
  {
   "cell_type": "markdown",
   "metadata": {},
   "source": [
    "Below I will engineer a weight variable that reflects the weight categories in the shipping agent's price list: 0.5, 1, 2, 3, 5, 7, etc. kg's."
   ]
  },
  {
   "cell_type": "code",
   "execution_count": 27,
   "metadata": {},
   "outputs": [
    {
     "data": {
      "text/plain": [
       "array([ 0.5,  1. ,  2. ,  3. ,  5. ,  7. , 10. , 15. , 30. ])"
      ]
     },
     "execution_count": 27,
     "metadata": {},
     "output_type": "execute_result"
    }
   ],
   "source": [
    "provider_prices['actual_package_size_num'].unique()"
   ]
  },
  {
   "cell_type": "code",
   "execution_count": 28,
   "metadata": {},
   "outputs": [
    {
     "name": "stderr",
     "output_type": "stream",
     "text": [
      "/usr/local/lib/python3.7/site-packages/ipykernel_launcher.py:5: SettingWithCopyWarning: \n",
      "A value is trying to be set on a copy of a slice from a DataFrame.\n",
      "Try using .loc[row_indexer,col_indexer] = value instead\n",
      "\n",
      "See the caveats in the documentation: http://pandas.pydata.org/pandas-docs/stable/user_guide/indexing.html#returning-a-view-versus-a-copy\n",
      "  \"\"\"\n",
      "/usr/local/lib/python3.7/site-packages/ipykernel_launcher.py:8: SettingWithCopyWarning: \n",
      "A value is trying to be set on a copy of a slice from a DataFrame.\n",
      "Try using .loc[row_indexer,col_indexer] = value instead\n",
      "\n",
      "See the caveats in the documentation: http://pandas.pydata.org/pandas-docs/stable/user_guide/indexing.html#returning-a-view-versus-a-copy\n",
      "  \n"
     ]
    }
   ],
   "source": [
    "weight = [\"0.5\", \"1\", \"2\", \"3\", \"5\", \"7\", \"10\", \"15\", \"30\"]\n",
    "\n",
    "provider_invoices['weight_measured_cat'] = pd.cut(x=provider_invoices['weight_measured'], bins=[-1, 499, 999, 1999,\n",
    "                                                                      2999, 4999, 6999, \n",
    "                                                                      9999, 14999, 29999], labels=weight)\n",
    "\n",
    "provider_invoices['weight_measured_cat'] = np.where(provider_invoices['weight_measured'].isnull()==True, \n",
    "                                                0, provider_invoices['weight_measured_cat'])"
   ]
  },
  {
   "cell_type": "code",
   "execution_count": 29,
   "metadata": {},
   "outputs": [
    {
     "name": "stderr",
     "output_type": "stream",
     "text": [
      "/usr/local/lib/python3.7/site-packages/ipykernel_launcher.py:1: SettingWithCopyWarning: \n",
      "A value is trying to be set on a copy of a slice from a DataFrame.\n",
      "Try using .loc[row_indexer,col_indexer] = value instead\n",
      "\n",
      "See the caveats in the documentation: http://pandas.pydata.org/pandas-docs/stable/user_guide/indexing.html#returning-a-view-versus-a-copy\n",
      "  \"\"\"Entry point for launching an IPython kernel.\n"
     ]
    }
   ],
   "source": [
    "provider_invoices['weight_measured_cat'] = pd.to_numeric(provider_invoices['weight_measured_cat'])"
   ]
  },
  {
   "cell_type": "markdown",
   "metadata": {},
   "source": [
    "## 3. Analysis\n",
    "\n",
    "Conduct analysis on the basis of the following questions:\n",
    "\n",
    "1. Are there any discrepancies between the shipping service provider invoices and our invoices to buyers? Can you explain them?\n",
    "\n",
    "2. What are the key trends you observe in the data over the period for which data is available? What is the business impact of these trends?\n",
    "\n",
    "3. If you had more time and could ask for more data, how would you continue your analysis to identify and fix shortcomings in the shipping/billing process?\n",
    "\n",
    "### 3.1 Discrepancies between shipping agent's data and Vinted\n",
    "\n",
    "To analyze the first question, I will investigate what is the underlying reason why some product and provider datasets have less transactions than others.\n",
    "\n",
    "Then, I will merge all information Vinted has on transactions to compare it with the information available from the shipping service provider.\n",
    "\n",
    "Immediately, it can be seen that the only basis we can compare Vinted and shipping vendors' data on a transaction is the amount per transaction."
   ]
  },
  {
   "cell_type": "code",
   "execution_count": 30,
   "metadata": {},
   "outputs": [
    {
     "data": {
      "text/html": [
       "<div>\n",
       "<style scoped>\n",
       "    .dataframe tbody tr th:only-of-type {\n",
       "        vertical-align: middle;\n",
       "    }\n",
       "\n",
       "    .dataframe tbody tr th {\n",
       "        vertical-align: top;\n",
       "    }\n",
       "\n",
       "    .dataframe thead th {\n",
       "        text-align: right;\n",
       "    }\n",
       "</style>\n",
       "<table border=\"1\" class=\"dataframe\">\n",
       "  <thead>\n",
       "    <tr style=\"text-align: right;\">\n",
       "      <th></th>\n",
       "      <th>tracking_code</th>\n",
       "      <th>from_country</th>\n",
       "      <th>to_country</th>\n",
       "      <th>package_type_id</th>\n",
       "      <th>transaction_id</th>\n",
       "      <th>shipping_label_created</th>\n",
       "      <th>buyer_id</th>\n",
       "      <th>seller_id</th>\n",
       "      <th>shipping_label_created_date</th>\n",
       "      <th>amount</th>\n",
       "      <th>user_invoice_date</th>\n",
       "    </tr>\n",
       "  </thead>\n",
       "  <tbody>\n",
       "    <tr>\n",
       "      <th>0</th>\n",
       "      <td>16065872</td>\n",
       "      <td>FR</td>\n",
       "      <td>FR</td>\n",
       "      <td>10</td>\n",
       "      <td>51939522</td>\n",
       "      <td>2017-07-01 18:06:50</td>\n",
       "      <td>12146205</td>\n",
       "      <td>12167488</td>\n",
       "      <td>2017-07-01</td>\n",
       "      <td>2.40</td>\n",
       "      <td>2017-07-07</td>\n",
       "    </tr>\n",
       "    <tr>\n",
       "      <th>1</th>\n",
       "      <td>33418749</td>\n",
       "      <td>FR</td>\n",
       "      <td>FR</td>\n",
       "      <td>12</td>\n",
       "      <td>206013154</td>\n",
       "      <td>2018-11-17 21:30:13</td>\n",
       "      <td>8102264</td>\n",
       "      <td>17675977</td>\n",
       "      <td>2018-11-17</td>\n",
       "      <td>3.15</td>\n",
       "      <td>2018-12-01</td>\n",
       "    </tr>\n",
       "    <tr>\n",
       "      <th>2</th>\n",
       "      <td>15596730</td>\n",
       "      <td>FR</td>\n",
       "      <td>FR</td>\n",
       "      <td>11</td>\n",
       "      <td>46161560</td>\n",
       "      <td>2017-05-12 12:44:49</td>\n",
       "      <td>11481074</td>\n",
       "      <td>12701905</td>\n",
       "      <td>2017-05-12</td>\n",
       "      <td>2.73</td>\n",
       "      <td>2017-05-19</td>\n",
       "    </tr>\n",
       "    <tr>\n",
       "      <th>3</th>\n",
       "      <td>30712952</td>\n",
       "      <td>FR</td>\n",
       "      <td>FR</td>\n",
       "      <td>11</td>\n",
       "      <td>182803213</td>\n",
       "      <td>2018-10-14 20:23:30</td>\n",
       "      <td>1864654</td>\n",
       "      <td>10428090</td>\n",
       "      <td>2018-10-14</td>\n",
       "      <td>2.73</td>\n",
       "      <td>2018-10-23</td>\n",
       "    </tr>\n",
       "    <tr>\n",
       "      <th>4</th>\n",
       "      <td>31187151</td>\n",
       "      <td>FR</td>\n",
       "      <td>FR</td>\n",
       "      <td>11</td>\n",
       "      <td>187579007</td>\n",
       "      <td>2018-10-21 19:59:31</td>\n",
       "      <td>13944144</td>\n",
       "      <td>7327476</td>\n",
       "      <td>2018-10-21</td>\n",
       "      <td>2.73</td>\n",
       "      <td>2018-10-28</td>\n",
       "    </tr>\n",
       "  </tbody>\n",
       "</table>\n",
       "</div>"
      ],
      "text/plain": [
       "   tracking_code from_country to_country  package_type_id  transaction_id  \\\n",
       "0       16065872           FR         FR               10        51939522   \n",
       "1       33418749           FR         FR               12       206013154   \n",
       "2       15596730           FR         FR               11        46161560   \n",
       "3       30712952           FR         FR               11       182803213   \n",
       "4       31187151           FR         FR               11       187579007   \n",
       "\n",
       "  shipping_label_created  buyer_id  seller_id shipping_label_created_date  \\\n",
       "0    2017-07-01 18:06:50  12146205   12167488                  2017-07-01   \n",
       "1    2018-11-17 21:30:13   8102264   17675977                  2018-11-17   \n",
       "2    2017-05-12 12:44:49  11481074   12701905                  2017-05-12   \n",
       "3    2018-10-14 20:23:30   1864654   10428090                  2018-10-14   \n",
       "4    2018-10-21 19:59:31  13944144    7327476                  2018-10-21   \n",
       "\n",
       "   amount user_invoice_date  \n",
       "0    2.40        2017-07-07  \n",
       "1    3.15        2018-12-01  \n",
       "2    2.73        2017-05-19  \n",
       "3    2.73        2018-10-23  \n",
       "4    2.73        2018-10-28  "
      ]
     },
     "execution_count": 30,
     "metadata": {},
     "output_type": "execute_result"
    }
   ],
   "source": [
    "#merge all information on transactions on Vinted's side.\n",
    "product = pd.merge(right=product_invoices, left=product_shipments, on='transaction_id', how='inner')\n",
    "product.head()"
   ]
  },
  {
   "cell_type": "code",
   "execution_count": 31,
   "metadata": {},
   "outputs": [
    {
     "name": "stdout",
     "output_type": "stream",
     "text": [
      "Number of shipments with uncollected shipping payments: 8846\n"
     ]
    }
   ],
   "source": [
    "#The number of observations in product_invoices and product_shipments dataframes is different\n",
    "print('Number of shipments with uncollected shipping payments:', product_shipments.shape[0] - product_invoices.shape[0])"
   ]
  },
  {
   "cell_type": "code",
   "execution_count": 32,
   "metadata": {},
   "outputs": [],
   "source": [
    "#create a merge dataframe to compare information between Vinted and the shipping agent\n",
    "merged = pd.merge(right=provider_invoices, left=product, on='tracking_code', how='outer', indicator=True,\n",
    "                 suffixes=('_prov', '_vinted' ))"
   ]
  },
  {
   "cell_type": "code",
   "execution_count": 33,
   "metadata": {},
   "outputs": [
    {
     "data": {
      "text/plain": [
       "both          554036\n",
       "right_only      8905\n",
       "left_only          0\n",
       "Name: _merge, dtype: int64"
      ]
     },
     "execution_count": 33,
     "metadata": {},
     "output_type": "execute_result"
    }
   ],
   "source": [
    "#the provider has not given invoices for 8905 shipments.\n",
    "merged['_merge'].value_counts()"
   ]
  },
  {
   "cell_type": "markdown",
   "metadata": {},
   "source": [
    "Basic observations:\n",
    "1. At this point in time, 8,846 shipments have not been payed for by the user.\n",
    "2. At this point in time, the shiping agent has not provided invoices for 8,905 transactions.\n",
    "\n",
    "As mentioned above, with available data, the first discrepancy between shipment service provider and Vinted's data that may occur, could be related to the amounts associated with each transaction.\n",
    "\n",
    "To investigate this, I will create a discrepancy variable - the difference in the amount per transaction provided by the shipping agent and Vinted's records. \n",
    "\n",
    "1. For any transaction, if the discrepancy variable is zero - this means that the shipping agent and Vinted's data matches.\n",
    "2. For any transaction, if the discrepancy variable is <0 - this means that the shipping agent has a smaller amount than Vinted in its records.\n",
    "3. For any transaction, if the dsicrepancy variable is >0 - this means that the shipping agent has a larger amount than Vinted in its records."
   ]
  },
  {
   "cell_type": "code",
   "execution_count": 34,
   "metadata": {},
   "outputs": [],
   "source": [
    "merged['discrepancy'] = merged['amount_prov'] - merged['amount_vinted']"
   ]
  },
  {
   "cell_type": "code",
   "execution_count": 35,
   "metadata": {},
   "outputs": [
    {
     "data": {
      "text/plain": [
       "Text(0.5, 1.0, \"There are discrepancies in the amounts recorded in shipping agent and Vinted's data\")"
      ]
     },
     "execution_count": 35,
     "metadata": {},
     "output_type": "execute_result"
    },
    {
     "data": {
      "image/png": "[encoded data removed]",
      "text/plain": [
       "<Figure size 720x360 with 1 Axes>"
      ]
     },
     "metadata": {
      "needs_background": "light"
     },
     "output_type": "display_data"
    }
   ],
   "source": [
    "merged[merged['discrepancy']!=0]['discrepancy'].plot(kind='hist', bins=50, figsize=(10,5))\n",
    "plt.title(\"There are discrepancies in the amounts recorded in shipping agent and Vinted's data\")"
   ]
  },
  {
   "cell_type": "markdown",
   "metadata": {},
   "source": [
    "There are discrepancies in the transaction amounts between Vinted and the shipping agent's records. In most cases, the discrepancy in reported amounts does not go over one (amount) unit.\n",
    "\n",
    "Below I investigate, what type of discrepancy is more prevalent."
   ]
  },
  {
   "cell_type": "code",
   "execution_count": 36,
   "metadata": {},
   "outputs": [],
   "source": [
    "merged['discrepancy2'] = np.where(merged['discrepancy']<0, -1, \n",
    "                                 np.where(merged['discrepancy']>0, 1, 0))"
   ]
  },
  {
   "cell_type": "code",
   "execution_count": 37,
   "metadata": {},
   "outputs": [
    {
     "data": {
      "text/plain": [
       "Text(0.5, 1.0, \"Amount per transaction wrt Vinted's records\")"
      ]
     },
     "execution_count": 37,
     "metadata": {},
     "output_type": "execute_result"
    },
    {
     "data": {
      "image/png": "[encoded data removed]",
      "text/plain": [
       "<Figure size 432x288 with 1 Axes>"
      ]
     },
     "metadata": {},
     "output_type": "display_data"
    }
   ],
   "source": [
    "figure, axes = plt.subplots()\n",
    "three_lab = (\"No discrepancy\", \"Amount higher\", \"Amount lower\")\n",
    "\n",
    "# Draw the pie chart\n",
    "axes.pie(merged['discrepancy2'].value_counts(), labels=three_lab, startangle=90, autopct='%1.1f')\n",
    "axes.axis('equal')\n",
    "\n",
    "plt.title(\"Amount per transaction wrt Vinted's records\")"
   ]
  },
  {
   "cell_type": "markdown",
   "metadata": {},
   "source": [
    "In the majority of records, where the shipment agent has provided the invoice, there are no discrepancies in the amounts per transaction.\n",
    "\n",
    "Vinted's data being constant, in 12.1% cases on record, the amount in the shipping agent's invoice is lower than in Vinted's. In more cases, 21.2%, the amount in sipping agent's invoice is higher than in Vinted's records. \n",
    "\n",
    "While this sounds alarming, in the last step will assess if the total of invoices provided by the shipping agent is larger that what Vinted has."
   ]
  },
  {
   "cell_type": "code",
   "execution_count": 38,
   "metadata": {},
   "outputs": [
    {
     "name": "stdout",
     "output_type": "stream",
     "text": [
      "Total amount Vinted's records:  1488923.77\n",
      "Total amount shipment agent's records:  1470836.27\n"
     ]
    }
   ],
   "source": [
    "total_amt_vinted = round(merged['amount_vinted'].sum(),2)\n",
    "total_amt_prov = round(merged['amount_prov'].sum(),2)\n",
    "\n",
    "print(\"Total amount Vinted's records: \",total_amt_vinted)\n",
    "print(\"Total amount shipment agent's records: \",total_amt_prov)"
   ]
  },
  {
   "cell_type": "markdown",
   "metadata": {},
   "source": [
    "However, the total amount in Vinted's records seems to be higher than in the invoices provided by the shipping agent. Thankfully, Vinted will not be surpised by overall larger invoices to cover than anticipated.\n",
    "\n",
    "Nevertheless, this is a dicrepancy. With more time, a few causes can be investigated:\n",
    " - Vinted users enter inacurrate parcel size details upon checkout.\n",
    " - shipping prices stored in Vinted's database are outdatted.\n",
    " - there is a mistake in the code that generates shipping prices for a given parcel.\n",
    " - the shipping agent does not treat all shipping cases uniformally (i.e, charges inconsistent amounts to similar sized packages)."
   ]
  },
  {
   "cell_type": "markdown",
   "metadata": {},
   "source": [
    "### 3.2 Key trends in data\n",
    "\n",
    "1. Engineer a full transacted and payed-for product dataset.\n",
    "2. Generate internal summary stats: number of customers (unique, unique buyers, unique sellers), time between shipping label and invoice date, type of packages, most popular route, popular destination-origin country.\n",
    "3. Run a quick test on how consistent with their pricing have the shippers been."
   ]
  },
  {
   "cell_type": "code",
   "execution_count": 39,
   "metadata": {},
   "outputs": [],
   "source": [
    "product_final = pd.merge(left=product, right=product_package_types, \n",
    "                         left_on='package_type_id', right_on='id', how='left')"
   ]
  },
  {
   "cell_type": "code",
   "execution_count": 40,
   "metadata": {},
   "outputs": [
    {
     "data": {
      "text/html": [
       "<div>\n",
       "<style scoped>\n",
       "    .dataframe tbody tr th:only-of-type {\n",
       "        vertical-align: middle;\n",
       "    }\n",
       "\n",
       "    .dataframe tbody tr th {\n",
       "        vertical-align: top;\n",
       "    }\n",
       "\n",
       "    .dataframe thead th {\n",
       "        text-align: right;\n",
       "    }\n",
       "</style>\n",
       "<table border=\"1\" class=\"dataframe\">\n",
       "  <thead>\n",
       "    <tr style=\"text-align: right;\">\n",
       "      <th></th>\n",
       "      <th>tracking_code</th>\n",
       "      <th>from_country</th>\n",
       "      <th>to_country</th>\n",
       "      <th>package_type_id</th>\n",
       "      <th>transaction_id</th>\n",
       "      <th>shipping_label_created</th>\n",
       "      <th>buyer_id</th>\n",
       "      <th>seller_id</th>\n",
       "      <th>shipping_label_created_date</th>\n",
       "      <th>amount</th>\n",
       "      <th>user_invoice_date</th>\n",
       "      <th>id</th>\n",
       "      <th>description</th>\n",
       "    </tr>\n",
       "  </thead>\n",
       "  <tbody>\n",
       "    <tr>\n",
       "      <th>0</th>\n",
       "      <td>16065872</td>\n",
       "      <td>FR</td>\n",
       "      <td>FR</td>\n",
       "      <td>10</td>\n",
       "      <td>51939522</td>\n",
       "      <td>2017-07-01 18:06:50</td>\n",
       "      <td>12146205</td>\n",
       "      <td>12167488</td>\n",
       "      <td>2017-07-01</td>\n",
       "      <td>2.40</td>\n",
       "      <td>2017-07-07</td>\n",
       "      <td>10</td>\n",
       "      <td>0.5kg</td>\n",
       "    </tr>\n",
       "    <tr>\n",
       "      <th>1</th>\n",
       "      <td>33418749</td>\n",
       "      <td>FR</td>\n",
       "      <td>FR</td>\n",
       "      <td>12</td>\n",
       "      <td>206013154</td>\n",
       "      <td>2018-11-17 21:30:13</td>\n",
       "      <td>8102264</td>\n",
       "      <td>17675977</td>\n",
       "      <td>2018-11-17</td>\n",
       "      <td>3.15</td>\n",
       "      <td>2018-12-01</td>\n",
       "      <td>12</td>\n",
       "      <td>2kg</td>\n",
       "    </tr>\n",
       "    <tr>\n",
       "      <th>2</th>\n",
       "      <td>15596730</td>\n",
       "      <td>FR</td>\n",
       "      <td>FR</td>\n",
       "      <td>11</td>\n",
       "      <td>46161560</td>\n",
       "      <td>2017-05-12 12:44:49</td>\n",
       "      <td>11481074</td>\n",
       "      <td>12701905</td>\n",
       "      <td>2017-05-12</td>\n",
       "      <td>2.73</td>\n",
       "      <td>2017-05-19</td>\n",
       "      <td>11</td>\n",
       "      <td>1kg</td>\n",
       "    </tr>\n",
       "    <tr>\n",
       "      <th>3</th>\n",
       "      <td>30712952</td>\n",
       "      <td>FR</td>\n",
       "      <td>FR</td>\n",
       "      <td>11</td>\n",
       "      <td>182803213</td>\n",
       "      <td>2018-10-14 20:23:30</td>\n",
       "      <td>1864654</td>\n",
       "      <td>10428090</td>\n",
       "      <td>2018-10-14</td>\n",
       "      <td>2.73</td>\n",
       "      <td>2018-10-23</td>\n",
       "      <td>11</td>\n",
       "      <td>1kg</td>\n",
       "    </tr>\n",
       "    <tr>\n",
       "      <th>4</th>\n",
       "      <td>31187151</td>\n",
       "      <td>FR</td>\n",
       "      <td>FR</td>\n",
       "      <td>11</td>\n",
       "      <td>187579007</td>\n",
       "      <td>2018-10-21 19:59:31</td>\n",
       "      <td>13944144</td>\n",
       "      <td>7327476</td>\n",
       "      <td>2018-10-21</td>\n",
       "      <td>2.73</td>\n",
       "      <td>2018-10-28</td>\n",
       "      <td>11</td>\n",
       "      <td>1kg</td>\n",
       "    </tr>\n",
       "  </tbody>\n",
       "</table>\n",
       "</div>"
      ],
      "text/plain": [
       "   tracking_code from_country to_country  package_type_id  transaction_id  \\\n",
       "0       16065872           FR         FR               10        51939522   \n",
       "1       33418749           FR         FR               12       206013154   \n",
       "2       15596730           FR         FR               11        46161560   \n",
       "3       30712952           FR         FR               11       182803213   \n",
       "4       31187151           FR         FR               11       187579007   \n",
       "\n",
       "  shipping_label_created  buyer_id  seller_id shipping_label_created_date  \\\n",
       "0    2017-07-01 18:06:50  12146205   12167488                  2017-07-01   \n",
       "1    2018-11-17 21:30:13   8102264   17675977                  2018-11-17   \n",
       "2    2017-05-12 12:44:49  11481074   12701905                  2017-05-12   \n",
       "3    2018-10-14 20:23:30   1864654   10428090                  2018-10-14   \n",
       "4    2018-10-21 19:59:31  13944144    7327476                  2018-10-21   \n",
       "\n",
       "   amount user_invoice_date  id description  \n",
       "0    2.40        2017-07-07  10       0.5kg  \n",
       "1    3.15        2018-12-01  12         2kg  \n",
       "2    2.73        2017-05-19  11         1kg  \n",
       "3    2.73        2018-10-23  11         1kg  \n",
       "4    2.73        2018-10-28  11         1kg  "
      ]
     },
     "execution_count": 40,
     "metadata": {},
     "output_type": "execute_result"
    }
   ],
   "source": [
    "product_final.head()"
   ]
  },
  {
   "cell_type": "markdown",
   "metadata": {},
   "source": [
    "#### 3.2.1 Customers"
   ]
  },
  {
   "cell_type": "code",
   "execution_count": 41,
   "metadata": {},
   "outputs": [
    {
     "name": "stdout",
     "output_type": "stream",
     "text": [
      "Number of unique buyers:  360570\n",
      "Number of unique sellers:  376527\n"
     ]
    }
   ],
   "source": [
    "print(\"Number of unique buyers: \", product_final['buyer_id'].nunique())\n",
    "print(\"Number of unique sellers: \", product_final['seller_id'].nunique())"
   ]
  },
  {
   "cell_type": "code",
   "execution_count": 42,
   "metadata": {},
   "outputs": [
    {
     "name": "stdout",
     "output_type": "stream",
     "text": [
      "Number of unique customers:  649044\n"
     ]
    }
   ],
   "source": [
    "buyers = product['buyer_id'].to_list()\n",
    "sellers = product['seller_id'].to_list()\n",
    "customers = buyers + sellers\n",
    "\n",
    "from collections import Counter\n",
    "unique = Counter(customers).keys() \n",
    "print(\"Number of unique customers: \", len(unique))"
   ]
  },
  {
   "cell_type": "code",
   "execution_count": 43,
   "metadata": {},
   "outputs": [],
   "source": [
    "buyers = pd.DataFrame(product_final['buyer_id'])\n",
    "sellers = pd.DataFrame(product_final['seller_id'])"
   ]
  },
  {
   "cell_type": "code",
   "execution_count": 44,
   "metadata": {},
   "outputs": [],
   "source": [
    "sb_merge = pd.merge(left=buyers, right=sellers, \n",
    "                    left_on='buyer_id', right_on='seller_id', how='outer', indicator=True)"
   ]
  },
  {
   "cell_type": "code",
   "execution_count": 45,
   "metadata": {},
   "outputs": [
    {
     "data": {
      "text/plain": [
       "Text(0.5, 1.0, 'Types of customers')"
      ]
     },
     "execution_count": 45,
     "metadata": {},
     "output_type": "execute_result"
    },
    {
     "data": {
      "image/png": "[encoded data removed]",
      "text/plain": [
       "<Figure size 432x288 with 1 Axes>"
      ]
     },
     "metadata": {},
     "output_type": "display_data"
    }
   ],
   "source": [
    "figure, axes = plt.subplots()\n",
    "three_lab = (\"Buyers only\", \"Sellers only\", \"Both buyers and sellers\")\n",
    "\n",
    "# Draw the pie chart\n",
    "axes.pie(sb_merge['_merge'].value_counts(), labels=three_lab, startangle=90, autopct='%1.1f')\n",
    "axes.axis('equal')\n",
    "\n",
    "plt.title(\"Types of customers\")"
   ]
  },
  {
   "cell_type": "markdown",
   "metadata": {},
   "source": [
    "Vinted's customers during this period can be divided to three nearly equal groups: Buyers-only, sellers-only and both buyers and sellers."
   ]
  },
  {
   "cell_type": "markdown",
   "metadata": {},
   "source": [
    "#### 3.2.2 Shipping label and user invoice dates"
   ]
  },
  {
   "cell_type": "code",
   "execution_count": 46,
   "metadata": {},
   "outputs": [
    {
     "name": "stderr",
     "output_type": "stream",
     "text": [
      "/usr/local/lib/python3.7/site-packages/pandas/util/_decorators.py:208: FutureWarning: Passing timedelta64-dtype data is deprecated, will raise a TypeError in a future version\n",
      "  return func(*args, **kwargs)\n"
     ]
    }
   ],
   "source": [
    "product_final['user_invoice_date'] = pd.to_datetime(product_final['user_invoice_date']).dt.date\n",
    "product_final['time_elapsed'] = pd.to_datetime(product_final['user_invoice_date'] - product_final['shipping_label_created_date']).dt.day"
   ]
  },
  {
   "cell_type": "code",
   "execution_count": 47,
   "metadata": {},
   "outputs": [
    {
     "data": {
      "text/plain": [
       "Text(0.5, 1.0, 'Time elapsed between shipping label and user invoice (days)')"
      ]
     },
     "execution_count": 47,
     "metadata": {},
     "output_type": "execute_result"
    },
    {
     "data": {
      "image/png": "[encoded data removed]",
      "text/plain": [
       "<Figure size 720x360 with 1 Axes>"
      ]
     },
     "metadata": {
      "needs_background": "light"
     },
     "output_type": "display_data"
    }
   ],
   "source": [
    "plt.figure(figsize=(10,5))\n",
    "sb.countplot(data=product_final, x='time_elapsed')\n",
    "plt.title('Time elapsed between shipping label and user invoice (days)')"
   ]
  },
  {
   "cell_type": "code",
   "execution_count": 48,
   "metadata": {},
   "outputs": [
    {
     "name": "stdout",
     "output_type": "stream",
     "text": [
      "Average time until user invoice after shipping label is ready: 8.8 days\n",
      "Minimum time until user invoice after shipping label is ready: 1 days\n",
      "Maximum time until user invoice after shipping label is ready: 31 days\n"
     ]
    }
   ],
   "source": [
    "print(\"Average time until user invoice after shipping label is ready:\", round(product_final['time_elapsed'].mean(),1), \"days\")\n",
    "print(\"Minimum time until user invoice after shipping label is ready:\", product_final['time_elapsed'].min(), \"days\")\n",
    "print(\"Maximum time until user invoice after shipping label is ready:\", product_final['time_elapsed'].max(), \"days\")"
   ]
  },
  {
   "cell_type": "code",
   "execution_count": 49,
   "metadata": {},
   "outputs": [
    {
     "data": {
      "text/html": [
       "<div>\n",
       "<style scoped>\n",
       "    .dataframe tbody tr th:only-of-type {\n",
       "        vertical-align: middle;\n",
       "    }\n",
       "\n",
       "    .dataframe tbody tr th {\n",
       "        vertical-align: top;\n",
       "    }\n",
       "\n",
       "    .dataframe thead th {\n",
       "        text-align: right;\n",
       "    }\n",
       "</style>\n",
       "<table border=\"1\" class=\"dataframe\">\n",
       "  <thead>\n",
       "    <tr style=\"text-align: right;\">\n",
       "      <th></th>\n",
       "      <th></th>\n",
       "      <th>time_elapsed</th>\n",
       "    </tr>\n",
       "    <tr>\n",
       "      <th>from_country</th>\n",
       "      <th>to_country</th>\n",
       "      <th></th>\n",
       "    </tr>\n",
       "  </thead>\n",
       "  <tbody>\n",
       "    <tr>\n",
       "      <th rowspan=\"4\" valign=\"top\">BE</th>\n",
       "      <th>BE</th>\n",
       "      <td>8.065693</td>\n",
       "    </tr>\n",
       "    <tr>\n",
       "      <th>ES</th>\n",
       "      <td>10.500000</td>\n",
       "    </tr>\n",
       "    <tr>\n",
       "      <th>FR</th>\n",
       "      <td>9.210449</td>\n",
       "    </tr>\n",
       "    <tr>\n",
       "      <th>LU</th>\n",
       "      <td>6.000000</td>\n",
       "    </tr>\n",
       "    <tr>\n",
       "      <th rowspan=\"4\" valign=\"top\">ES</th>\n",
       "      <th>BE</th>\n",
       "      <td>10.916667</td>\n",
       "    </tr>\n",
       "    <tr>\n",
       "      <th>ES</th>\n",
       "      <td>11.611111</td>\n",
       "    </tr>\n",
       "    <tr>\n",
       "      <th>FR</th>\n",
       "      <td>11.086622</td>\n",
       "    </tr>\n",
       "    <tr>\n",
       "      <th>LU</th>\n",
       "      <td>9.000000</td>\n",
       "    </tr>\n",
       "    <tr>\n",
       "      <th rowspan=\"4\" valign=\"top\">FR</th>\n",
       "      <th>BE</th>\n",
       "      <td>9.519797</td>\n",
       "    </tr>\n",
       "    <tr>\n",
       "      <th>ES</th>\n",
       "      <td>10.772643</td>\n",
       "    </tr>\n",
       "    <tr>\n",
       "      <th>FR</th>\n",
       "      <td>8.814786</td>\n",
       "    </tr>\n",
       "    <tr>\n",
       "      <th>LU</th>\n",
       "      <td>9.600000</td>\n",
       "    </tr>\n",
       "    <tr>\n",
       "      <th>LU</th>\n",
       "      <th>FR</th>\n",
       "      <td>10.250000</td>\n",
       "    </tr>\n",
       "  </tbody>\n",
       "</table>\n",
       "</div>"
      ],
      "text/plain": [
       "                         time_elapsed\n",
       "from_country to_country              \n",
       "BE           BE              8.065693\n",
       "             ES             10.500000\n",
       "             FR              9.210449\n",
       "             LU              6.000000\n",
       "ES           BE             10.916667\n",
       "             ES             11.611111\n",
       "             FR             11.086622\n",
       "             LU              9.000000\n",
       "FR           BE              9.519797\n",
       "             ES             10.772643\n",
       "             FR              8.814786\n",
       "             LU              9.600000\n",
       "LU           FR             10.250000"
      ]
     },
     "execution_count": 49,
     "metadata": {},
     "output_type": "execute_result"
    }
   ],
   "source": [
    "pd.DataFrame(product_final.groupby(by=['from_country','to_country'])['time_elapsed'].mean())"
   ]
  },
  {
   "cell_type": "markdown",
   "metadata": {},
   "source": [
    "Average time it takes to generate a shipping label after user invoice is 8.8 days. The average, however varies depending on the shipping route.\n",
    "\n",
    "The average time until a shipping label is generate is the shortest for the Belgium-Lithuania shipments, 6 days. The longest - for shipments within Spain, 11.6 days."
   ]
  },
  {
   "cell_type": "markdown",
   "metadata": {},
   "source": [
    "#### 3.2.3 Type of packages"
   ]
  },
  {
   "cell_type": "code",
   "execution_count": 50,
   "metadata": {},
   "outputs": [
    {
     "data": {
      "text/html": [
       "<div>\n",
       "<style scoped>\n",
       "    .dataframe tbody tr th:only-of-type {\n",
       "        vertical-align: middle;\n",
       "    }\n",
       "\n",
       "    .dataframe tbody tr th {\n",
       "        vertical-align: top;\n",
       "    }\n",
       "\n",
       "    .dataframe thead th {\n",
       "        text-align: right;\n",
       "    }\n",
       "</style>\n",
       "<table border=\"1\" class=\"dataframe\">\n",
       "  <thead>\n",
       "    <tr style=\"text-align: right;\">\n",
       "      <th></th>\n",
       "      <th>description</th>\n",
       "    </tr>\n",
       "  </thead>\n",
       "  <tbody>\n",
       "    <tr>\n",
       "      <th>0.5kg</th>\n",
       "      <td>47.512075</td>\n",
       "    </tr>\n",
       "    <tr>\n",
       "      <th>1kg</th>\n",
       "      <td>33.724704</td>\n",
       "    </tr>\n",
       "    <tr>\n",
       "      <th>2kg</th>\n",
       "      <td>18.740840</td>\n",
       "    </tr>\n",
       "    <tr>\n",
       "      <th>5kg</th>\n",
       "      <td>0.014800</td>\n",
       "    </tr>\n",
       "    <tr>\n",
       "      <th>10kg</th>\n",
       "      <td>0.004151</td>\n",
       "    </tr>\n",
       "    <tr>\n",
       "      <th>20kg</th>\n",
       "      <td>0.003429</td>\n",
       "    </tr>\n",
       "  </tbody>\n",
       "</table>\n",
       "</div>"
      ],
      "text/plain": [
       "       description\n",
       "0.5kg    47.512075\n",
       "1kg      33.724704\n",
       "2kg      18.740840\n",
       "5kg       0.014800\n",
       "10kg      0.004151\n",
       "20kg      0.003429"
      ]
     },
     "execution_count": 50,
     "metadata": {},
     "output_type": "execute_result"
    }
   ],
   "source": [
    "pd.DataFrame(product_final['description'].value_counts()/len(product_final)*100)"
   ]
  },
  {
   "cell_type": "markdown",
   "metadata": {},
   "source": [
    "Most packages are small, with the majority being up to 500 grams (47.5%). Larger packages of 5kgs and more make up about 2% of the total packages in the data."
   ]
  },
  {
   "cell_type": "markdown",
   "metadata": {},
   "source": [
    "#### 3.2.4 Origin and destination"
   ]
  },
  {
   "cell_type": "code",
   "execution_count": 51,
   "metadata": {},
   "outputs": [
    {
     "data": {
      "text/html": [
       "<div>\n",
       "<style scoped>\n",
       "    .dataframe tbody tr th:only-of-type {\n",
       "        vertical-align: middle;\n",
       "    }\n",
       "\n",
       "    .dataframe tbody tr th {\n",
       "        vertical-align: top;\n",
       "    }\n",
       "\n",
       "    .dataframe thead th {\n",
       "        text-align: right;\n",
       "    }\n",
       "</style>\n",
       "<table border=\"1\" class=\"dataframe\">\n",
       "  <thead>\n",
       "    <tr style=\"text-align: right;\">\n",
       "      <th></th>\n",
       "      <th>from_to</th>\n",
       "    </tr>\n",
       "  </thead>\n",
       "  <tbody>\n",
       "    <tr>\n",
       "      <th>FR-FR</th>\n",
       "      <td>97.845266</td>\n",
       "    </tr>\n",
       "    <tr>\n",
       "      <th>BE-FR</th>\n",
       "      <td>0.981164</td>\n",
       "    </tr>\n",
       "    <tr>\n",
       "      <th>FR-BE</th>\n",
       "      <td>0.816012</td>\n",
       "    </tr>\n",
       "    <tr>\n",
       "      <th>ES-FR</th>\n",
       "      <td>0.187533</td>\n",
       "    </tr>\n",
       "    <tr>\n",
       "      <th>FR-ES</th>\n",
       "      <td>0.097647</td>\n",
       "    </tr>\n",
       "    <tr>\n",
       "      <th>BE-BE</th>\n",
       "      <td>0.049455</td>\n",
       "    </tr>\n",
       "    <tr>\n",
       "      <th>ES-BE</th>\n",
       "      <td>0.006498</td>\n",
       "    </tr>\n",
       "    <tr>\n",
       "      <th>ES-ES</th>\n",
       "      <td>0.006498</td>\n",
       "    </tr>\n",
       "    <tr>\n",
       "      <th>BE-ES</th>\n",
       "      <td>0.004693</td>\n",
       "    </tr>\n",
       "    <tr>\n",
       "      <th>FR-LU</th>\n",
       "      <td>0.002707</td>\n",
       "    </tr>\n",
       "    <tr>\n",
       "      <th>LU-FR</th>\n",
       "      <td>0.002166</td>\n",
       "    </tr>\n",
       "    <tr>\n",
       "      <th>BE-LU</th>\n",
       "      <td>0.000180</td>\n",
       "    </tr>\n",
       "    <tr>\n",
       "      <th>ES-LU</th>\n",
       "      <td>0.000180</td>\n",
       "    </tr>\n",
       "  </tbody>\n",
       "</table>\n",
       "</div>"
      ],
      "text/plain": [
       "         from_to\n",
       "FR-FR  97.845266\n",
       "BE-FR   0.981164\n",
       "FR-BE   0.816012\n",
       "ES-FR   0.187533\n",
       "FR-ES   0.097647\n",
       "BE-BE   0.049455\n",
       "ES-BE   0.006498\n",
       "ES-ES   0.006498\n",
       "BE-ES   0.004693\n",
       "FR-LU   0.002707\n",
       "LU-FR   0.002166\n",
       "BE-LU   0.000180\n",
       "ES-LU   0.000180"
      ]
     },
     "execution_count": 51,
     "metadata": {},
     "output_type": "execute_result"
    }
   ],
   "source": [
    "product_final['from_to'] = product_final['from_country'] + \"-\" + product_final['to_country']\n",
    "pd.DataFrame(product_final['from_to'].value_counts()/len(product_final)*100)"
   ]
  },
  {
   "cell_type": "markdown",
   "metadata": {},
   "source": [
    "I investigated where do most packages are getting shipped. In the current period, within France shipments dominate (97.8%). Other origin-destination combinations do not make up a share larger than 1%."
   ]
  },
  {
   "cell_type": "markdown",
   "metadata": {},
   "source": [
    "#### 3.2.5 Discrepancies in amounts invoiced by shipper\n",
    "\n",
    "In an earlier exercise, one reason for frequent discrepancies in the amount per package in Vinted's data and shipper's invoices can be that the shipper charges inconsistently. \n",
    "\n",
    "With data available (and new variables engineered earlier), it is possible to roughly investigate whether there are any stricking mismatches between amounts charged for certain packages in the invoice and the prices for same-sized packages in the shipper's price list."
   ]
  },
  {
   "cell_type": "code",
   "execution_count": 52,
   "metadata": {},
   "outputs": [],
   "source": [
    "#Code below merges the shipper's invoice with the shipper's price list on route and weight of the package\n",
    "#only investigate prices that occur in the invoice from the current period.\n",
    "provider_final = pd.merge(left=provider_invoices, right=provider_prices, \n",
    "                         left_on=['from_country', 'to_country', 'weight_measured_cat'], \n",
    "                          right_on=['from_country', 'to_country', 'actual_package_size_num'], how='inner')"
   ]
  },
  {
   "cell_type": "code",
   "execution_count": 53,
   "metadata": {},
   "outputs": [
    {
     "data": {
      "text/html": [
       "<div>\n",
       "<style scoped>\n",
       "    .dataframe tbody tr th:only-of-type {\n",
       "        vertical-align: middle;\n",
       "    }\n",
       "\n",
       "    .dataframe tbody tr th {\n",
       "        vertical-align: top;\n",
       "    }\n",
       "\n",
       "    .dataframe thead th {\n",
       "        text-align: right;\n",
       "    }\n",
       "</style>\n",
       "<table border=\"1\" class=\"dataframe\">\n",
       "  <thead>\n",
       "    <tr style=\"text-align: right;\">\n",
       "      <th></th>\n",
       "      <th>amount</th>\n",
       "      <th>weight_measured</th>\n",
       "      <th>price</th>\n",
       "      <th>actual_package_size</th>\n",
       "    </tr>\n",
       "  </thead>\n",
       "  <tbody>\n",
       "    <tr>\n",
       "      <th>3</th>\n",
       "      <td>2.73</td>\n",
       "      <td>0.0</td>\n",
       "      <td>2.40</td>\n",
       "      <td>0.5 kg</td>\n",
       "    </tr>\n",
       "    <tr>\n",
       "      <th>10</th>\n",
       "      <td>2.73</td>\n",
       "      <td>0.0</td>\n",
       "      <td>2.40</td>\n",
       "      <td>0.5 kg</td>\n",
       "    </tr>\n",
       "    <tr>\n",
       "      <th>13</th>\n",
       "      <td>2.73</td>\n",
       "      <td>0.0</td>\n",
       "      <td>2.40</td>\n",
       "      <td>0.5 kg</td>\n",
       "    </tr>\n",
       "    <tr>\n",
       "      <th>16</th>\n",
       "      <td>2.73</td>\n",
       "      <td>0.0</td>\n",
       "      <td>2.40</td>\n",
       "      <td>0.5 kg</td>\n",
       "    </tr>\n",
       "    <tr>\n",
       "      <th>20</th>\n",
       "      <td>2.73</td>\n",
       "      <td>0.0</td>\n",
       "      <td>2.40</td>\n",
       "      <td>0.5 kg</td>\n",
       "    </tr>\n",
       "    <tr>\n",
       "      <th>...</th>\n",
       "      <td>...</td>\n",
       "      <td>...</td>\n",
       "      <td>...</td>\n",
       "      <td>...</td>\n",
       "    </tr>\n",
       "    <tr>\n",
       "      <th>559591</th>\n",
       "      <td>4.15</td>\n",
       "      <td>2020.0</td>\n",
       "      <td>5.04</td>\n",
       "      <td>3 kg</td>\n",
       "    </tr>\n",
       "    <tr>\n",
       "      <th>559593</th>\n",
       "      <td>4.15</td>\n",
       "      <td>2040.0</td>\n",
       "      <td>5.04</td>\n",
       "      <td>3 kg</td>\n",
       "    </tr>\n",
       "    <tr>\n",
       "      <th>559601</th>\n",
       "      <td>2.40</td>\n",
       "      <td>520.0</td>\n",
       "      <td>2.73</td>\n",
       "      <td>1 kg</td>\n",
       "    </tr>\n",
       "    <tr>\n",
       "      <th>559604</th>\n",
       "      <td>2.73</td>\n",
       "      <td>1000.0</td>\n",
       "      <td>3.15</td>\n",
       "      <td>2 kg</td>\n",
       "    </tr>\n",
       "    <tr>\n",
       "      <th>559606</th>\n",
       "      <td>2.73</td>\n",
       "      <td>1020.0</td>\n",
       "      <td>3.15</td>\n",
       "      <td>2 kg</td>\n",
       "    </tr>\n",
       "  </tbody>\n",
       "</table>\n",
       "<p>106228 rows × 4 columns</p>\n",
       "</div>"
      ],
      "text/plain": [
       "        amount  weight_measured  price actual_package_size\n",
       "3         2.73              0.0   2.40              0.5 kg\n",
       "10        2.73              0.0   2.40              0.5 kg\n",
       "13        2.73              0.0   2.40              0.5 kg\n",
       "16        2.73              0.0   2.40              0.5 kg\n",
       "20        2.73              0.0   2.40              0.5 kg\n",
       "...        ...              ...    ...                 ...\n",
       "559591    4.15           2020.0   5.04                3 kg\n",
       "559593    4.15           2040.0   5.04                3 kg\n",
       "559601    2.40            520.0   2.73                1 kg\n",
       "559604    2.73           1000.0   3.15                2 kg\n",
       "559606    2.73           1020.0   3.15                2 kg\n",
       "\n",
       "[106228 rows x 4 columns]"
      ]
     },
     "execution_count": 53,
     "metadata": {},
     "output_type": "execute_result"
    }
   ],
   "source": [
    "provider_final[provider_final['amount']!=provider_final['price']][['amount', 'weight_measured', 'price', 'actual_package_size']]"
   ]
  },
  {
   "cell_type": "markdown",
   "metadata": {},
   "source": [
    "A basic filter applied on the data shows that there are at least 106K packages where for the same package weight category and route prices are not matching the price list. Below, I assess in how many cases, the the amount in the shipper's invoice is larger than expected (and when it is lower than expected) based on their price list."
   ]
  },
  {
   "cell_type": "code",
   "execution_count": 54,
   "metadata": {},
   "outputs": [],
   "source": [
    "provider_final['price_discrepancy'] = np.where(provider_final['amount'] - provider_final['price'] > 0,1, \n",
    "                                               np.where(provider_final['amount'] - provider_final['price'] <0, -1,0))"
   ]
  },
  {
   "cell_type": "code",
   "execution_count": 55,
   "metadata": {},
   "outputs": [
    {
     "data": {
      "text/plain": [
       "Text(0, 0.5, 'Percentage share')"
      ]
     },
     "execution_count": 55,
     "metadata": {},
     "output_type": "execute_result"
    },
    {
     "data": {
      "image/png": "[encoded data removed]",
      "text/plain": [
       "<Figure size 720x360 with 1 Axes>"
      ]
     },
     "metadata": {
      "needs_background": "light"
     },
     "output_type": "display_data"
    }
   ],
   "source": [
    "plt.figure(figsize=(10,5))\n",
    "sb.barplot(x='price_discrepancy', y='price_discrepancy', data=provider_final, \n",
    "           estimator=lambda x: len(x) / len(provider_final) * 100)\n",
    "plt.title(\"In about 19% cases there is a price discrepancy between shipper's invoice and price list\")\n",
    "plt.xticks([0,1,2],['Undercharge', 'No discrepancy', 'Overcharge'])\n",
    "plt.xlabel('')\n",
    "plt.ylabel('Percentage share')"
   ]
  },
  {
   "cell_type": "markdown",
   "metadata": {},
   "source": [
    "In about 19% cases with matching route and weight, the shipper's amount in their invoice does not match their price list. \n",
    "\n",
    "This conclusion, could be brought up to shipping partners, however, it is not definitive and additional infomation could be useful to confirm it. For example, weighted_measure data in the shipper's invoices contained unusual values, such as 0, and if there was added information as to why, that could potentially teach how to read the shipper's data. \n",
    "\n",
    "In addition, with more time, one could extract approximate timing of the shipment information from available product data and see if there aleeged overcharging may be a result of some extra package handling fees during busier postal months.\n",
    "\n",
    "Finally, there could be some missing data about whether the shipper either re-measured a package (and did not update the invoice records), or had to add to the packaging, which is an extra service. "
   ]
  },
  {
   "cell_type": "markdown",
   "metadata": {},
   "source": [
    "### 3.3 How to continue the analysis"
   ]
  },
  {
   "cell_type": "markdown",
   "metadata": {},
   "source": [
    "With more time I would revisit the question on the discrepancies between Vinted and the shipping service providers' invoices. \n",
    "\n",
    "In particular, I would revisit the posibility of Vinted customers inputing inacurate measurements and weight of their packages (if that is a possibility). Data that could be useful for it could be any web-srapped data on user's behavior upon requesting and finalizing shipping details on the page (if possible, how many times they changed the inputs, ir how long it took them to finalize the booking process) and use it in combination with exisiting data to calculate the likelihood there will be a missmatch in our and the shipper's invoice data.\n",
    "\n",
    "With more time I would dig deeper into the available product data and attempt to re-engineer the amount for the package by using available internal information on the package size and route, and compare that to the amount that is already in the data.\n",
    "\n",
    "Finally, with more time I would look into the potential issue with the way the shipping agent calculates its prices as it was done just above, only with more attention to the magnitude of price mismatches. I would also try to create some clusters of similar discrepancy (discrepancy in a similar monetatry amount) cases to see if they have anything in common.\n",
    "\n",
    "Additional data that could be helpful for a meningful business analysis would be more date variables dates when sales are finalized, dates of dispach, etc. "
   ]
  },
  {
   "cell_type": "code",
   "execution_count": null,
   "metadata": {},
   "outputs": [],
   "source": []
  }
 ],
 "metadata": {
  "kernelspec": {
   "display_name": "Python 3",
   "language": "python",
   "name": "python3"
  },
  "language_info": {
   "codemirror_mode": {
    "name": "ipython",
    "version": 3
   },
   "file_extension": ".py",
   "mimetype": "text/x-python",
   "name": "python",
   "nbconvert_exporter": "python",
   "pygments_lexer": "ipython3",
   "version": "3.7.5"
  }
 },
 "nbformat": 4,
 "nbformat_minor": 2
}
